{
 "cells": [
  {
   "cell_type": "code",
   "execution_count": 1,
   "metadata": {
    "collapsed": true
   },
   "outputs": [],
   "source": [
    "# Naive Bayes\n",
    "import pandas as pd, os, sklearn, numpy as np, nltk, re\n",
    "from sklearn import datasets\n",
    "from sklearn import metrics\n",
    "from sklearn.naive_bayes import GaussianNB\n",
    "from sklearn.feature_extraction.text import CountVectorizer\n",
    "from bs4 import BeautifulSoup\n",
    "from nltk.corpus import stopwords\n",
    "from sklearn.metrics import auc"
   ]
  },
  {
   "cell_type": "code",
   "execution_count": 2,
   "metadata": {
    "collapsed": false,
    "scrolled": true
   },
   "outputs": [
    {
     "data": {
      "text/plain": [
       "['archive',\n",
       " 'Naive Bayes.ipynb',\n",
       " 'all_training.xlsx',\n",
       " 'test.xlsx',\n",
       " 'population_dataset_11.7.16.xlsx',\n",
       " 'train.xlsx',\n",
       " 'validate.xlsx']"
      ]
     },
     "execution_count": 2,
     "metadata": {},
     "output_type": "execute_result"
    }
   ],
   "source": [
    "# Set the working directory to the folder where your data is stored\n",
    "os.chdir(\"P:\\\\7670\\Common\\\\2. Ad hoc requests (Task 2F )\\Star Ratings\\Cross-site\\Marketing scan\\August 2016\\\\99_Idea Lab\\Work\\Week 11\\Training Datasets\")\n",
    "# See what files are in the folder.\n",
    "os.listdir()"
   ]
  },
  {
   "cell_type": "code",
   "execution_count": 3,
   "metadata": {
    "collapsed": false
   },
   "outputs": [
    {
     "data": {
      "text/html": [
       "<div>\n",
       "<table border=\"1\" class=\"dataframe\">\n",
       "  <thead>\n",
       "    <tr style=\"text-align: right;\">\n",
       "      <th></th>\n",
       "      <th>id</th>\n",
       "      <th>Provider Type</th>\n",
       "      <th>root url</th>\n",
       "      <th>scraped url</th>\n",
       "      <th>Visible Text</th>\n",
       "      <th>page_MM</th>\n",
       "    </tr>\n",
       "  </thead>\n",
       "  <tbody>\n",
       "    <tr>\n",
       "      <th>0</th>\n",
       "      <td>82</td>\n",
       "      <td>HC</td>\n",
       "      <td>dunessurgicalhospital.com</td>\n",
       "      <td>http://dunessurgicalhospital.com/error/mainten...</td>\n",
       "      <td>Skip to main content Home Careers About Us Eve...</td>\n",
       "      <td>0</td>\n",
       "    </tr>\n",
       "    <tr>\n",
       "      <th>1</th>\n",
       "      <td>146</td>\n",
       "      <td>HHC</td>\n",
       "      <td>porchlighthomecare.org</td>\n",
       "      <td>http://www.porchlighthomecare.org/the-gr8t-a-s...</td>\n",
       "      <td>Join our Facebook Group Follow us on Twitter O...</td>\n",
       "      <td>0</td>\n",
       "    </tr>\n",
       "    <tr>\n",
       "      <th>2</th>\n",
       "      <td>167</td>\n",
       "      <td>NHC</td>\n",
       "      <td>libertyhealthcareandrehab.com</td>\n",
       "      <td>http://www.libertyhealthcareandrehab.com/capit...</td>\n",
       "      <td>Call us at 1-919-231-6045 end #header Home Dir...</td>\n",
       "      <td>1</td>\n",
       "    </tr>\n",
       "    <tr>\n",
       "      <th>3</th>\n",
       "      <td>192</td>\n",
       "      <td>NHC</td>\n",
       "      <td>troynursinghome.com</td>\n",
       "      <td>http://www.troynursinghome.com/</td>\n",
       "      <td>Troy, AL Nursing Home Troy Health And Rehabili...</td>\n",
       "      <td>0</td>\n",
       "    </tr>\n",
       "    <tr>\n",
       "      <th>4</th>\n",
       "      <td>117</td>\n",
       "      <td>HHC</td>\n",
       "      <td>interimhealthcare.com</td>\n",
       "      <td>http://www.interimhealthcare.com/eriepa/about-us</td>\n",
       "      <td>2206 West 15th St., Erie, Pennsylvania 16505 G...</td>\n",
       "      <td>1</td>\n",
       "    </tr>\n",
       "  </tbody>\n",
       "</table>\n",
       "</div>"
      ],
      "text/plain": [
       "    id Provider Type                       root url  \\\n",
       "0   82            HC      dunessurgicalhospital.com   \n",
       "1  146           HHC         porchlighthomecare.org   \n",
       "2  167           NHC  libertyhealthcareandrehab.com   \n",
       "3  192           NHC            troynursinghome.com   \n",
       "4  117           HHC          interimhealthcare.com   \n",
       "\n",
       "                                         scraped url  \\\n",
       "0  http://dunessurgicalhospital.com/error/mainten...   \n",
       "1  http://www.porchlighthomecare.org/the-gr8t-a-s...   \n",
       "2  http://www.libertyhealthcareandrehab.com/capit...   \n",
       "3                    http://www.troynursinghome.com/   \n",
       "4   http://www.interimhealthcare.com/eriepa/about-us   \n",
       "\n",
       "                                        Visible Text  page_MM  \n",
       "0  Skip to main content Home Careers About Us Eve...        0  \n",
       "1  Join our Facebook Group Follow us on Twitter O...        0  \n",
       "2  Call us at 1-919-231-6045 end #header Home Dir...        1  \n",
       "3  Troy, AL Nursing Home Troy Health And Rehabili...        0  \n",
       "4  2206 West 15th St., Erie, Pennsylvania 16505 G...        1  "
      ]
     },
     "execution_count": 3,
     "metadata": {},
     "output_type": "execute_result"
    }
   ],
   "source": [
    "#load training data\n",
    "train=pd.read_excel('train.xlsx', header=0, \\\n",
    "                    delimiter=\"\\t\", quoting=3)\n",
    "train[:5]"
   ]
  },
  {
   "cell_type": "code",
   "execution_count": 4,
   "metadata": {
    "collapsed": true
   },
   "outputs": [],
   "source": [
    "#set up model and outcome variable\n",
    "model=GaussianNB()\n",
    "outcome=np.array(train['page_MM'])"
   ]
  },
  {
   "cell_type": "code",
   "execution_count": 5,
   "metadata": {
    "collapsed": true
   },
   "outputs": [],
   "source": [
    "def MM_to_words( raw_MM ):\n",
    "    # Function to convert a raw CMS MM to a string of words\n",
    "    # The input is a single string (a raw MM text), and \n",
    "    # the output is a single string (a preprocessed MM text)\n",
    "    #\n",
    "    # 1. Remove HTML\n",
    "    MM_text = BeautifulSoup(raw_MM,\"lxml\").get_text() \n",
    "    #\n",
    "    # 2. Remove non-letters        \n",
    "    letters_only = re.sub(\"[^a-zA-Z]\", \" \", MM_text) \n",
    "    #\n",
    "    # 3. Convert to lower case, split into individual words\n",
    "    words = letters_only.lower().split()                             \n",
    "    #\n",
    "    # 6. Join the words back into one string separated by space, \n",
    "    #    to make the output easier to use in our Bag of Words,\n",
    "    #    then return the result. \n",
    "    return( \" \".join( words ))"
   ]
  },
  {
   "cell_type": "code",
   "execution_count": 6,
   "metadata": {
    "collapsed": false
   },
   "outputs": [
    {
     "name": "stdout",
     "output_type": "stream",
     "text": [
      "Cleaning and parsing the training set CMS MMs...\n",
      "\n"
     ]
    }
   ],
   "source": [
    "# Now let's loop through and clean all of the training set at once\n",
    "\n",
    "# Get the number of MMs based on the dataframe column size\n",
    "num_MM = train[\"Visible Text\"].size\n",
    "\n",
    "# Initialize an empty list to hold the clean MMs\n",
    "clean_train_MM = []\n",
    "\n",
    "# Loop over each MM; create an index i that goes from 0 to the length\n",
    "# of theMM list \n",
    "for i in range( 0, num_MM ):\n",
    "    # Call our function for each one, and add the result to the list of\n",
    "    # clean MMs\n",
    "    clean_train_MM.append( MM_to_words( train[\"Visible Text\"][i] ) )\n",
    "\n",
    "# This next bit is optional, and it will give you status updates for every 1,000 rows.\n",
    "print (\"Cleaning and parsing the training set CMS MMs...\\n\")\n",
    "clean_train_MM = []\n",
    "for i in range( 0, num_MM ):\n",
    "    # If the index is evenly divisible by 1000, print a message\n",
    "    if( (i+1)%1000 == 0 ):\n",
    "        print (\"MM %d of %d\\n\" % ( i+1, num_MM ))                                                                    \n",
    "    clean_train_MM.append( MM_to_words( train[\"Visible Text\"][i] ))"
   ]
  },
  {
   "cell_type": "code",
   "execution_count": 7,
   "metadata": {
    "collapsed": true
   },
   "outputs": [],
   "source": [
    "vectorizer = CountVectorizer(analyzer = \"word\",   \\\n",
    "                             tokenizer = None,    \\\n",
    "                             preprocessor = None, \\\n",
    "                             stop_words = None,\n",
    "                             ngram_range=(1, 3),\n",
    "                             max_features = 10000) # This limits to the 10,000 most frequent words\n",
    "train_data_features = vectorizer.fit_transform(clean_train_MM)\n",
    "trainpredictors=train_data_features.toarray()"
   ]
  },
  {
   "cell_type": "code",
   "execution_count": 8,
   "metadata": {
    "collapsed": false
   },
   "outputs": [
    {
     "data": {
      "text/plain": [
       "GaussianNB()"
      ]
     },
     "execution_count": 8,
     "metadata": {},
     "output_type": "execute_result"
    }
   ],
   "source": [
    "#run model\n",
    "model.fit(trainpredictors, outcome)"
   ]
  },
  {
   "cell_type": "code",
   "execution_count": 9,
   "metadata": {
    "collapsed": true
   },
   "outputs": [],
   "source": [
    "expected=outcome\n",
    "predicted_train=model2.predict(trainpredictors)"
   ]
  },
  {
   "cell_type": "code",
   "execution_count": 10,
   "metadata": {
    "collapsed": false
   },
   "outputs": [
    {
     "name": "stdout",
     "output_type": "stream",
     "text": [
      "             precision    recall  f1-score   support\n",
      "\n",
      "          0       1.00      1.00      1.00        64\n",
      "          1       1.00      1.00      1.00        63\n",
      "\n",
      "avg / total       1.00      1.00      1.00       127\n",
      "\n",
      "[[64  0]\n",
      " [ 0 63]]\n"
     ]
    }
   ],
   "source": [
    "print(metrics.classification_report(expected, predicted_train))\n",
    "print(metrics.confusion_matrix(expected, predicted_train))"
   ]
  },
  {
   "cell_type": "code",
   "execution_count": 11,
   "metadata": {
    "collapsed": false
   },
   "outputs": [
    {
     "data": {
      "text/html": [
       "<div>\n",
       "<table border=\"1\" class=\"dataframe\">\n",
       "  <thead>\n",
       "    <tr style=\"text-align: right;\">\n",
       "      <th></th>\n",
       "      <th>id</th>\n",
       "      <th>Provider Type</th>\n",
       "      <th>root url</th>\n",
       "      <th>scraped url</th>\n",
       "      <th>Visible Text</th>\n",
       "      <th>page_MM</th>\n",
       "    </tr>\n",
       "  </thead>\n",
       "  <tbody>\n",
       "    <tr>\n",
       "      <th>0</th>\n",
       "      <td>135</td>\n",
       "      <td>HHC</td>\n",
       "      <td>celestialhhc.com</td>\n",
       "      <td>http://www.celestialhhc.com/home-health-care-c...</td>\n",
       "      <td>wrapper wrapper-canvas banner nav Home About U...</td>\n",
       "      <td>0</td>\n",
       "    </tr>\n",
       "    <tr>\n",
       "      <th>1</th>\n",
       "      <td>22</td>\n",
       "      <td>HC</td>\n",
       "      <td>northwestspecialtyhospital.com</td>\n",
       "      <td>http://www.northwestspecialtyhospital.com/abou...</td>\n",
       "      <td>Our specialty is  YOU. Menu About Mission Stat...</td>\n",
       "      <td>1</td>\n",
       "    </tr>\n",
       "    <tr>\n",
       "      <th>2</th>\n",
       "      <td>131</td>\n",
       "      <td>HHC</td>\n",
       "      <td>healthsouthwichitafalls.com</td>\n",
       "      <td>http://www.healthsouthwichitafalls.com/en/our-...</td>\n",
       "      <td>Share This Print English Espanol Decrease Font...</td>\n",
       "      <td>0</td>\n",
       "    </tr>\n",
       "    <tr>\n",
       "      <th>3</th>\n",
       "      <td>12</td>\n",
       "      <td>DFC</td>\n",
       "      <td>pskc.net</td>\n",
       "      <td>http://www.pskc.net/about-us/</td>\n",
       "      <td>DONATE FOR PATIENTS Find a Kidney Doctor About...</td>\n",
       "      <td>0</td>\n",
       "    </tr>\n",
       "    <tr>\n",
       "      <th>4</th>\n",
       "      <td>20</td>\n",
       "      <td>HC</td>\n",
       "      <td>hancockregionalhospital.org</td>\n",
       "      <td>http://www.hancockregionalhospital.org/about-u...</td>\n",
       "      <td>About Us  |  Careers  |  Wellness &amp; Education ...</td>\n",
       "      <td>1</td>\n",
       "    </tr>\n",
       "  </tbody>\n",
       "</table>\n",
       "</div>"
      ],
      "text/plain": [
       "    id Provider Type                        root url  \\\n",
       "0  135           HHC                celestialhhc.com   \n",
       "1   22            HC  northwestspecialtyhospital.com   \n",
       "2  131           HHC     healthsouthwichitafalls.com   \n",
       "3   12           DFC                        pskc.net   \n",
       "4   20            HC     hancockregionalhospital.org   \n",
       "\n",
       "                                         scraped url  \\\n",
       "0  http://www.celestialhhc.com/home-health-care-c...   \n",
       "1  http://www.northwestspecialtyhospital.com/abou...   \n",
       "2  http://www.healthsouthwichitafalls.com/en/our-...   \n",
       "3                      http://www.pskc.net/about-us/   \n",
       "4  http://www.hancockregionalhospital.org/about-u...   \n",
       "\n",
       "                                        Visible Text  page_MM  \n",
       "0  wrapper wrapper-canvas banner nav Home About U...        0  \n",
       "1  Our specialty is  YOU. Menu About Mission Stat...        1  \n",
       "2  Share This Print English Espanol Decrease Font...        0  \n",
       "3  DONATE FOR PATIENTS Find a Kidney Doctor About...        0  \n",
       "4  About Us  |  Careers  |  Wellness & Education ...        1  "
      ]
     },
     "execution_count": 11,
     "metadata": {},
     "output_type": "execute_result"
    }
   ],
   "source": [
    "#load test data\n",
    "test=pd.read_excel('test.xlsx', header=0, \\\n",
    "                    delimiter=\"\\t\", quoting=3)\n",
    "test[:5]"
   ]
  },
  {
   "cell_type": "code",
   "execution_count": 12,
   "metadata": {
    "collapsed": false
   },
   "outputs": [
    {
     "name": "stdout",
     "output_type": "stream",
     "text": [
      "Cleaning and parsing the training set CMS MMs...\n",
      "\n"
     ]
    }
   ],
   "source": [
    "# Now let's loop through and clean all of the training set at once\n",
    "\n",
    "# Get the number of MMs based on the dataframe column size\n",
    "num_MM = test[\"Visible Text\"].size\n",
    "\n",
    "# Initialize an empty list to hold the clean MMs\n",
    "clean_test_MM = []\n",
    "\n",
    "# Loop over each MM; create an index i that goes from 0 to the length\n",
    "# of theMM list \n",
    "for i in range( 0, num_MM ):\n",
    "    # Call our function for each one, and add the result to the list of\n",
    "    # clean MMs\n",
    "    clean_test_MM.append( MM_to_words( test[\"Visible Text\"][i] ) )\n",
    "\n",
    "# This next bit is optional, and it will give you status updates for every 1,000 rows.\n",
    "print (\"Cleaning and parsing the training set CMS MMs...\\n\")\n",
    "clean_test_MM = []\n",
    "for i in range( 0, num_MM ):\n",
    "    # If the index is evenly divisible by 1000, print a message\n",
    "    if( (i+1)%1000 == 0 ):\n",
    "        print (\"MM %d of %d\\n\" % ( i+1, num_MM ))                                                                    \n",
    "    clean_test_MM.append( MM_to_words( test[\"Visible Text\"][i] ))"
   ]
  },
  {
   "cell_type": "code",
   "execution_count": 13,
   "metadata": {
    "collapsed": false
   },
   "outputs": [],
   "source": [
    "vectorizer = CountVectorizer(analyzer = \"word\",   \\\n",
    "                             tokenizer = None,    \\\n",
    "                             preprocessor = None, \\\n",
    "                             stop_words = None,\n",
    "                             ngram_range=(1, 3),\n",
    "                             max_features = 10000) # This limits to the 10,000 most frequent words\n",
    "test_data_features = vectorizer.fit_transform(clean_test_MM)\n",
    "testpredictors=test_data_features.toarray()"
   ]
  },
  {
   "cell_type": "code",
   "execution_count": 14,
   "metadata": {
    "collapsed": false
   },
   "outputs": [
    {
     "name": "stdout",
     "output_type": "stream",
     "text": [
      "             precision    recall  f1-score   support\n",
      "\n",
      "          0       0.30      0.15      0.20        20\n",
      "          1       0.45      0.67      0.54        21\n",
      "\n",
      "avg / total       0.38      0.41      0.37        41\n",
      "\n",
      "[[ 3 17]\n",
      " [ 7 14]]\n"
     ]
    }
   ],
   "source": [
    "outcometest=np.array(test['page_MM'])\n",
    "expectedtest=outcometest\n",
    "predicted_test=model2.predict(testpredictors)\n",
    "print(metrics.classification_report(expectedtest, predicted_test))\n",
    "print(metrics.confusion_matrix(expectedtest, predicted_test))"
   ]
  },
  {
   "cell_type": "code",
   "execution_count": 15,
   "metadata": {
    "collapsed": false
   },
   "outputs": [],
   "source": [
    "cm=ConfusionMatrix(expectedtest, predicted_test)"
   ]
  },
  {
   "cell_type": "code",
   "execution_count": 17,
   "metadata": {
    "collapsed": false
   },
   "outputs": [
    {
     "name": "stdout",
     "output_type": "stream",
     "text": [
      "population: 41\n",
      "P: 21\n",
      "N: 20\n",
      "PositiveTest: 31\n",
      "NegativeTest: 10\n",
      "TP: 14\n",
      "TN: 3\n",
      "FP: 17\n",
      "FN: 7\n",
      "TPR: 0.666666666667\n",
      "TNR: 0.15\n",
      "PPV: 0.451612903226\n",
      "NPV: 0.3\n",
      "FPR: 0.85\n",
      "FDR: 0.548387096774\n",
      "FNR: 0.333333333333\n",
      "ACC: 0.414634146341\n",
      "F1_score: 0.538461538462\n",
      "MCC: -0.213395488257\n",
      "informedness: -0.183333333333\n",
      "markedness: -0.248387096774\n",
      "prevalence: 0.512195121951\n",
      "LRP: 0.78431372549\n",
      "LRN: 2.22222222222\n",
      "DOR: 0.352941176471\n",
      "FOR: 0.7\n"
     ]
    }
   ],
   "source": [
    "cm.print_stats()"
   ]
  },
  {
   "cell_type": "code",
   "execution_count": null,
   "metadata": {
    "collapsed": true
   },
   "outputs": [],
   "source": []
  }
 ],
 "metadata": {
  "kernelspec": {
   "display_name": "Python 3",
   "language": "python",
   "name": "python3"
  },
  "language_info": {
   "codemirror_mode": {
    "name": "ipython",
    "version": 3
   },
   "file_extension": ".py",
   "mimetype": "text/x-python",
   "name": "python",
   "nbconvert_exporter": "python",
   "pygments_lexer": "ipython3",
   "version": "3.5.1"
  }
 },
 "nbformat": 4,
 "nbformat_minor": 0
}
